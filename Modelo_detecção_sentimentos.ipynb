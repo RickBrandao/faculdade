{
  "nbformat": 4,
  "nbformat_minor": 0,
  "metadata": {
    "colab": {
      "provenance": [],
      "authorship_tag": "ABX9TyMURPJhc5MKsS38WSm4lB4x",
      "include_colab_link": true
    },
    "kernelspec": {
      "name": "python3",
      "display_name": "Python 3"
    },
    "language_info": {
      "name": "python"
    }
  },
  "cells": [
    {
      "cell_type": "markdown",
      "metadata": {
        "id": "view-in-github",
        "colab_type": "text"
      },
      "source": [
        "<a href=\"https://colab.research.google.com/github/RickBrandao/faculdade/blob/main/Modelo_detec%C3%A7%C3%A3o_sentimentos.ipynb\" target=\"_parent\"><img src=\"https://colab.research.google.com/assets/colab-badge.svg\" alt=\"Open In Colab\"/></a>"
      ]
    },
    {
      "cell_type": "code",
      "source": [
        "import tensorflow as tf\n",
        "from tensorflow import keras\n",
        "from keras import layers\n",
        "from keras.saving import register_keras_serializable\n"
      ],
      "metadata": {
        "id": "Kxqk6Ew98y4E"
      },
      "execution_count": 10,
      "outputs": []
    },
    {
      "cell_type": "code",
      "source": [
        "@register_keras_serializable()\n",
        "class PositionEmbedding(layers.Layer):\n",
        "    def __init__(self, sequence_length, **kwargs):\n",
        "        super().__init__(**kwargs)\n",
        "        self.sequence_length = sequence_length\n",
        "\n",
        "    def build(self, input_shape):\n",
        "        self.embedding = self.add_weight(\n",
        "            shape=(self.sequence_length, input_shape[-1]),\n",
        "            initializer=\"uniform\",\n",
        "            trainable=True,\n",
        "            name=\"position_embedding_weights\"\n",
        "        )\n",
        "\n",
        "    def call(self, inputs):\n",
        "        return inputs + self.embedding\n",
        "\n",
        "    def get_config(self):\n",
        "        config = super().get_config()\n",
        "        config.update({\"sequence_length\": self.sequence_length})\n",
        "        return config\n"
      ],
      "metadata": {
        "id": "_93kUMet8507"
      },
      "execution_count": 11,
      "outputs": []
    },
    {
      "cell_type": "code",
      "source": [
        "model = keras.models.load_model(\"/content/bert_classificador_final.keras\", custom_objects={\"PositionEmbedding\": PositionEmbedding})\n"
      ],
      "metadata": {
        "id": "X0YCR73gPTMS"
      },
      "execution_count": 12,
      "outputs": []
    },
    {
      "cell_type": "code",
      "source": [
        "from keras.layers import TextVectorization\n",
        "\n",
        "# Simulação de vocabulário mínimo\n",
        "vocab = ['[PAD]', '[UNK]', '[MASK]', 'this', 'movie', 'was', 'awesome', 'bad',\n",
        "         'i', 'love', 'hate', 'boring', 'great', 'disaster', 'predictable',\n",
        "         'emotional', 'rollercoaster', 'not', 'stop', 'watching']\n",
        "\n",
        "# Cria vetor de texto com vocabulário e comprimento fixo\n",
        "vectorize_layer = TextVectorization(\n",
        "    max_tokens=30000,\n",
        "    output_mode=\"int\",\n",
        "    output_sequence_length=256\n",
        ")\n",
        "vectorize_layer.set_vocabulary(vocab)\n",
        "\n"
      ],
      "metadata": {
        "id": "33hOkZj-8-XW"
      },
      "execution_count": 13,
      "outputs": []
    },
    {
      "cell_type": "code",
      "source": [
        "# Frases de teste\n",
        "frases = [\n",
        "    \"this movie was awesome\",\n",
        "    \"i hate this boring movie\",\n",
        "    \"i love this great film\",\n",
        "    \"this movie was bad\"\n",
        "]\n",
        "\n",
        "# Vetoriza os textos\n",
        "vetorizado = vectorize_layer(frases)\n",
        "\n",
        "# Faz predições\n",
        "preds = model.predict(vetorizado)\n",
        "\n",
        "# Mostra resultados\n",
        "for frase, prob in zip(frases, preds):\n",
        "    sentimento = \"Positivo\" if prob[0] > 0.5 else \"Negativo\"\n",
        "    print(f\"'{frase}' → {sentimento} ({prob[0]:.2f})\")\n"
      ],
      "metadata": {
        "colab": {
          "base_uri": "https://localhost:8080/"
        },
        "id": "d0aUU90-9mRJ",
        "outputId": "21abf9fc-bb9d-4b3f-f5d1-1333d8bda23d"
      },
      "execution_count": 14,
      "outputs": [
        {
          "output_type": "stream",
          "name": "stdout",
          "text": [
            "\u001b[1m1/1\u001b[0m \u001b[32m━━━━━━━━━━━━━━━━━━━━\u001b[0m\u001b[37m\u001b[0m \u001b[1m0s\u001b[0m 268ms/step\n",
            "'this movie was awesome' → Negativo (0.46)\n",
            "'i hate this boring movie' → Positivo (0.63)\n",
            "'i love this great film' → Positivo (0.62)\n",
            "'this movie was bad' → Negativo (0.34)\n"
          ]
        }
      ]
    },
    {
      "cell_type": "code",
      "source": [
        "# Frases de teste – mais sutis ou ambíguas\n",
        "frases = [\n",
        "    \"the acting was decent but the plot was weak\",\n",
        "    \"i couldn't stop watching it\",\n",
        "    \"i expected more from this movie\",\n",
        "    \"not bad, but not great either\"\n",
        "]\n",
        "\n",
        "# Vetoriza os textos\n",
        "vetorizado = vectorize_layer(frases)\n",
        "\n",
        "# Faz predições\n",
        "preds = model.predict(vetorizado)\n",
        "\n",
        "# Mostra resultados\n",
        "for frase, prob in zip(frases, preds):\n",
        "    sentimento = \"Positivo\" if prob[0] > 0.5 else \"Negativo\"\n",
        "    print(f\"'{frase}' → {sentimento} ({prob[0]:.2f})\")\n"
      ],
      "metadata": {
        "colab": {
          "base_uri": "https://localhost:8080/"
        },
        "id": "j7jjW7fM9uaQ",
        "outputId": "adf78131-9e2d-4080-837f-52e5b197876c"
      },
      "execution_count": 15,
      "outputs": [
        {
          "output_type": "stream",
          "name": "stdout",
          "text": [
            "\u001b[1m1/1\u001b[0m \u001b[32m━━━━━━━━━━━━━━━━━━━━\u001b[0m\u001b[37m\u001b[0m \u001b[1m0s\u001b[0m 101ms/step\n",
            "'the acting was decent but the plot was weak' → Positivo (0.57)\n",
            "'i couldn't stop watching it' → Positivo (0.81)\n",
            "'i expected more from this movie' → Positivo (0.66)\n",
            "'not bad, but not great either' → Negativo (0.47)\n"
          ]
        }
      ]
    },
    {
      "cell_type": "code",
      "source": [
        "# Frases de teste – elogios ou críticas diretas\n",
        "frases = [\n",
        "    \"the best movie i've ever seen\",\n",
        "    \"this film was a total disaster\",\n",
        "    \"an emotional rollercoaster from start to finish\",\n",
        "    \"completely boring and predictable\"\n",
        "]\n",
        "\n",
        "# Vetoriza os textos\n",
        "vetorizado = vectorize_layer(frases)\n",
        "\n",
        "# Faz predições\n",
        "preds = model.predict(vetorizado)\n",
        "\n",
        "# Mostra resultados\n",
        "for frase, prob in zip(frases, preds):\n",
        "    sentimento = \"Positivo\" if prob[0] > 0.5 else \"Negativo\"\n",
        "    print(f\"'{frase}' → {sentimento} ({prob[0]:.2f})\")\n"
      ],
      "metadata": {
        "colab": {
          "base_uri": "https://localhost:8080/"
        },
        "id": "j73Bi4Fu96Rz",
        "outputId": "3aba44cd-28ed-487b-d1d3-4cb1d7b85ce9"
      },
      "execution_count": 16,
      "outputs": [
        {
          "output_type": "stream",
          "name": "stdout",
          "text": [
            "\u001b[1m1/1\u001b[0m \u001b[32m━━━━━━━━━━━━━━━━━━━━\u001b[0m\u001b[37m\u001b[0m \u001b[1m0s\u001b[0m 59ms/step\n",
            "'the best movie i've ever seen' → Positivo (0.62)\n",
            "'this film was a total disaster' → Positivo (0.62)\n",
            "'an emotional rollercoaster from start to finish' → Positivo (0.69)\n",
            "'completely boring and predictable' → Positivo (0.80)\n"
          ]
        }
      ]
    }
  ]
}